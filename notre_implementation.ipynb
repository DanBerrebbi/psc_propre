{
 "cells": [
  {
   "cell_type": "code",
   "execution_count": 32,
   "metadata": {},
   "outputs": [],
   "source": [
    "import numpy as np\n",
    "import matplotlib.pyplot as plt\n",
    "import matplotlib.patches as mpatches\n",
    "import numpy.random as rd\n",
    "import time\n",
    "import pandas as pd"
   ]
  },
  {
   "cell_type": "code",
   "execution_count": 33,
   "metadata": {},
   "outputs": [],
   "source": [
    "def S(y,x, a):\n",
    "    return float((y-a.dot(x.T))**2)\n",
    "\n",
    "def gradS(y,x, a):\n",
    "    S = []\n",
    "    for p in range(a.size):\n",
    "        aux = 0\n",
    "        aux -= float(x[0][p]) * (y - float(a.dot(x.T)))\n",
    "        S.append(aux)\n",
    "    return S\n",
    "\n",
    "def gradS_reg(y,x, a,lamb):\n",
    "    S = []\n",
    "    for p in range(a.size):\n",
    "        aux = 0\n",
    "        aux -= float(x[0][p]) * (y - float(a.dot(x.T)))\n",
    "        S.append(aux)\n",
    "    return S+list(lamb*2*a*np.linalg.norm(x))\n",
    "\n",
    "def perte_quadr(M,U,V):\n",
    "    MM=U.dot(V.T)\n",
    "    p = 0\n",
    "    n, m = M.shape\n",
    "    non_nul=n*m\n",
    "    for i in range(n):\n",
    "        for j in range(m):\n",
    "            if M[i][j]==0:\n",
    "                non_nul-=1\n",
    "                continue    # on ne considère que la perte sur le train , c'est à dire sur les facteurs deja rempli\n",
    "            p += (M[i][j] - MM[i][j]) ** 2\n",
    "    return p/non_nul\n",
    "\n",
    "def perte_quadr_reg(M,U,V,lamb):\n",
    "    MM=U.dot(V.T)\n",
    "    p = 0\n",
    "    n, m = M.shape\n",
    "    for i in range(n):\n",
    "        for j in range(m):\n",
    "            if M[i][j]==0:\n",
    "                continue    # on ne considère que la perte sur le train , c'est à dire sur les facteurs deja rempli\n",
    "            p += (M[i][j] - MM[i][j]) ** 2\n",
    "    return p + lamb*(np.linalg.norm(U)+np.linalg.norm(V))\n",
    "\n",
    "\n",
    "def perte_rapide(M,U,V,i,j):\n",
    "    MM=U.dot(V.T)\n",
    "    p = 0\n",
    "    n, m = M.shape\n",
    "    for ligne in range(n):\n",
    "        if M[ligne][j]==0:   #de meme\n",
    "            continue\n",
    "        p+=(M[ligne][j] - MM[ligne][j]) ** 2\n",
    "    for colonne in range(m):\n",
    "        if M[i][colonne]==0:   #de meme\n",
    "            continue\n",
    "        p+=(M[i][colonne] - MM[i][colonne]) ** 2\n",
    "    return p\n",
    "\n",
    "\n",
    "def perte_rapide_reg(M,U,V,i,j,lamb):\n",
    "    MM=U.dot(V.T)\n",
    "    p = 0\n",
    "    n, m = M.shape\n",
    "    for ligne in range(n):\n",
    "        if M[ligne][j]==0:   #de meme\n",
    "            continue\n",
    "        p+=(M[ligne][j] - MM[ligne][j]) ** 2\n",
    "    for colonne in range(m):\n",
    "        if M[i][colonne]==0:   #de meme\n",
    "            continue\n",
    "        p+=(M[i][colonne] - MM[i][colonne]) ** 2\n",
    "    return p+ lamb*np.linalg.norm(U)+lamb*np.linalg.norm(V)"
   ]
  },
  {
   "cell_type": "code",
   "execution_count": 34,
   "metadata": {},
   "outputs": [],
   "source": [
    "def train_and_test(M,x):\n",
    "    train=np.zeros(M.shape)\n",
    "    for i in range(M.shape[0]):\n",
    "        for j in range(M.shape[1]):\n",
    "            r = rd.random()\n",
    "            if r >= x:\n",
    "                train[i][j]=M[i][j]\n",
    "    test=M-train\n",
    "    return train, test"
   ]
  },
  {
   "cell_type": "code",
   "execution_count": 35,
   "metadata": {},
   "outputs": [],
   "source": [
    "def mon_idee_creuse_tres_rapide(M, l, iter, pas, eps, courbes_seulement,lamb):\n",
    "    # le paramètre courbe_seulement c'est si on veut afficher toutes les étapes ou juste les courbes pour comparer les résultats\n",
    "    etape, perte_train_etape,perte_test_etape, temps, perte_train_temps, perte_test_temps = [], [], [], [], [], []\n",
    "\n",
    "    MAT_U = np.array([[.1 for k in range(l)] for k in range(M.shape[0])])\n",
    "    MAT_V = np.array([[.1 for k in range(l)] for k in range(M.shape[1])])\n",
    "    L1 = [k for k in range(M.shape[0])]\n",
    "    L2 = [k for k in range(M.shape[1])]\n",
    "    rd.shuffle(L1)\n",
    "    rd.shuffle(L2)\n",
    "    \n",
    "    train, test = train_and_test(M,x=0.25) # ensemble de test de taille 25% du dataset total\n",
    "    \n",
    "    #enlever les zeros\n",
    "    paires=[]\n",
    "    for i in L1:\n",
    "        for j in L2:\n",
    "            if train[i][j]!=0:\n",
    "                paires.append((i,j))\n",
    "\n",
    "    #if (courbes_seulement == False):\n",
    "      #  print(\"Matrice à factoriser :\")\n",
    "      #  print(M)\n",
    "\n",
    "    debut = time.time()\n",
    "\n",
    "    for ww in range(iter):\n",
    "        pas /= 1.1\n",
    "\n",
    "        for paire in paires:\n",
    "            n,m = paire\n",
    "            a = float(train[n][m])\n",
    "            U = MAT_U[n:n + 1]\n",
    "            V = MAT_V[m:m + 1]\n",
    "            e, ee = 0, 0\n",
    "\n",
    "            # On minismise sur V à U constant\n",
    "            while e<3:\n",
    "                gradient = gradS_reg(a, U, V,lamb)\n",
    "                #if (max(gradient) < eps) and (min(gradient) > -eps):\n",
    "                    #break\n",
    "                e += 1\n",
    "                for i in range(l):\n",
    "                    p1 = perte_rapide_reg(train, MAT_U,MAT_V,n,m,lamb)\n",
    "                    grad = gradient[i]\n",
    "                    V[0][i] -= pas * grad\n",
    "                    p2 = perte_rapide_reg(train, MAT_U,MAT_V,n,m,lamb)\n",
    "                    if (p1 < p2):\n",
    "                        V[0][i] += pas * grad\n",
    "\n",
    "\n",
    "            MAT_V[m] = V\n",
    "                # On minimise sur U à V constant\n",
    "            while ee<3:\n",
    "                gradient = gradS_reg(a, U, V,lamb)\n",
    "                #if (max(gradient) < eps) and (min(gradient) > -eps):\n",
    "                    #break\n",
    "                ee += 1\n",
    "                for i in range(l):\n",
    "                    p1 = perte_rapide_reg(train, MAT_U,MAT_V,n,m,lamb)\n",
    "                    grad = gradient[i]\n",
    "                    U[0][i] -= pas * grad\n",
    "                    p2 = perte_rapide_reg(train,MAT_U,MAT_V,n,m,lamb)\n",
    "                    if (p1 < p2):\n",
    "                        U[0][i] += pas * grad\n",
    "\n",
    "            MAT_U[n] = U\n",
    "\n",
    "        if (courbes_seulement == False):\n",
    "            print(\"etape\", ww + 1, \"sur\", iter)\n",
    "            \n",
    "        etape.append(ww)\n",
    "        perte_train=perte_quadr(train,MAT_U,MAT_V)\n",
    "        perte_test=perte_quadr(test,MAT_U,MAT_V)\n",
    "        perte_train_etape.append(perte_train)\n",
    "        perte_test_etape.append(perte_test)\n",
    "        temps.append(time.time() - debut)\n",
    "        perte_train_temps.append(perte_train)\n",
    "        perte_test_temps.append(perte_test)\n",
    "\n",
    "    fin = time.time()\n",
    "    #if (courbes_seulement == False):\n",
    "       # print(MAT_U.dot(MAT_V.T))\n",
    "        #print(M)\n",
    "\n",
    "\n",
    "    ax1 = plt.gca()\n",
    "    line1, = ax1.plot(etape, perte_train_etape)\n",
    "    ax2 = ax1.twinx()\n",
    "    line2, = ax2.plot(etape, perte_test_etape, c='r')\n",
    "    ax1.set_ylabel(\"train\")\n",
    "    ax2.set_ylabel(\"test\")\n",
    "    ax2.legend((line1, line2),\n",
    "           (\"erreur train\", \"erreur test\"))\n",
    "    ax1.xlabel(\"Etape\")\n",
    "    plt.show()"
   ]
  },
  {
   "cell_type": "code",
   "execution_count": 36,
   "metadata": {},
   "outputs": [
    {
     "data": {
      "text/plain": [
       "(14, 14)"
      ]
     },
     "execution_count": 36,
     "metadata": {},
     "output_type": "execute_result"
    }
   ],
   "source": [
    "#M=np.random.randint(1,6,(10,100))\n",
    "M=np.array([[5,5,5,5,5,5,5,1,1,1,1,1,1,1],\n",
    "            [5,5,5,5,5,5,5,1,1,1,1,1,1,1],\n",
    "            [5,5,5,5,5,5,5,1,1,1,1,1,1,1],\n",
    "            [5,5,5,5,5,5,5,1,1,1,1,1,1,1],\n",
    "            [5,5,5,5,5,5,5,1,1,1,1,1,1,1],\n",
    "            [5,5,5,5,5,5,5,1,1,1,1,1,1,1],\n",
    "            [5,5,5,5,5,5,5,1,1,1,1,1,1,1],\n",
    "            [1,1,1,1,1,1,1,5,5,5,5,5,5,5],\n",
    "            [1,1,1,1,1,1,1,5,5,5,5,5,5,5],\n",
    "           [1,1,1,1,1,1,1,5,5,5,5,5,5,5],\n",
    "           [1,1,1,1,1,1,1,5,5,5,5,5,5,5],\n",
    "           [1,1,1,1,1,1,1,5,5,5,5,5,5,5],\n",
    "           [1,1,1,1,1,1,1,5,5,5,5,5,5,5],\n",
    "           [1,1,1,1,1,1,1,5,5,5,5,5,5,5]])\n",
    "M.shape"
   ]
  },
  {
   "cell_type": "code",
   "execution_count": 37,
   "metadata": {},
   "outputs": [
    {
     "name": "stdout",
     "output_type": "stream",
     "text": [
      "etape 1 sur 10\n",
      "etape 2 sur 10\n",
      "etape 3 sur 10\n",
      "etape 4 sur 10\n",
      "etape 5 sur 10\n",
      "etape 6 sur 10\n",
      "etape 7 sur 10\n",
      "etape 8 sur 10\n",
      "etape 9 sur 10\n",
      "etape 10 sur 10\n"
     ]
    },
    {
     "data": {
      "image/png": "[encoded data removed]",
      "text/plain": [
       "<Figure size 432x288 with 2 Axes>"
      ]
     },
     "metadata": {
      "needs_background": "light"
     },
     "output_type": "display_data"
    }
   ],
   "source": [
    "mon_idee_creuse_tres_rapide(M,5,10,.1,.1,False,2)"
   ]
  },
  {
   "cell_type": "code",
   "execution_count": 38,
   "metadata": {},
   "outputs": [
    {
     "name": "stdout",
     "output_type": "stream",
     "text": [
      "[[4 5 4 4 4 5 4 2 1 1 1 2 2 2]\n",
      " [3 3 5 4 4 4 5 2 2 1 1 1 1 2]\n",
      " [4 3 4 4 5 3 5 1 2 2 1 1 2 1]\n",
      " [4 3 4 3 3 4 5 2 1 1 1 2 2 1]\n",
      " [3 5 5 5 5 5 4 1 2 1 1 2 2 2]\n",
      " [3 3 5 3 4 5 4 2 2 1 2 1 2 2]\n",
      " [3 5 3 3 5 3 5 2 1 1 1 2 1 2]\n",
      " [1 1 2 1 2 2 1 3 4 3 3 3 5 4]\n",
      " [1 1 2 2 2 1 1 4 5 4 3 4 4 4]\n",
      " [2 2 1 1 2 1 2 5 5 3 5 5 5 5]\n",
      " [2 2 2 1 1 1 2 4 4 5 5 3 5 5]\n",
      " [2 2 2 2 2 2 2 4 4 3 3 5 4 5]\n",
      " [2 2 1 1 2 1 2 5 3 4 4 4 4 3]\n",
      " [2 2 2 1 1 1 1 4 4 3 3 4 4 3]]\n"
     ]
    }
   ],
   "source": [
    "M=np.array([[5,5,5,5,5,5,5,1,1,1,1,1,1,1],\n",
    "            [5,5,5,5,5,5,5,1,1,1,1,1,1,1],\n",
    "            [5,5,5,5,5,5,5,1,1,1,1,1,1,1],\n",
    "            [5,5,5,5,5,5,5,1,1,1,1,1,1,1],\n",
    "            [5,5,5,5,5,5,5,1,1,1,1,1,1,1],\n",
    "            [5,5,5,5,5,5,5,1,1,1,1,1,1,1],\n",
    "            [5,5,5,5,5,5,5,1,1,1,1,1,1,1],\n",
    "            [1,1,1,1,1,1,1,5,5,5,5,5,5,5],\n",
    "            [1,1,1,1,1,1,1,5,5,5,5,5,5,5],\n",
    "           [1,1,1,1,1,1,1,5,5,5,5,5,5,5],\n",
    "           [1,1,1,1,1,1,1,5,5,5,5,5,5,5],\n",
    "           [1,1,1,1,1,1,1,5,5,5,5,5,5,5],\n",
    "           [1,1,1,1,1,1,1,5,5,5,5,5,5,5],\n",
    "           [1,1,1,1,1,1,1,5,5,5,5,5,5,5]])\n",
    "\n",
    "for i in range(len(M)):\n",
    "    for j in range(len(M[0])):\n",
    "        if M[i][j]==5:\n",
    "            M[i][j]=np.random.randint(3,6)   # bonne note devient note entre 3 et 5\n",
    "        else:\n",
    "            M[i][j]=np.random.randint(1,3)   # mauvaise note devient note entre 1 et 2\n",
    "            \n",
    "print(M)\n",
    "    "
   ]
  },
  {
   "cell_type": "code",
   "execution_count": 39,
   "metadata": {},
   "outputs": [
    {
     "data": {
      "image/png": "[encoded data removed]",
      "text/plain": [
       "<Figure size 432x288 with 2 Axes>"
      ]
     },
     "metadata": {
      "needs_background": "light"
     },
     "output_type": "display_data"
    }
   ],
   "source": [
    "mon_idee_creuse_tres_rapide(M,5,20,.1,.1,True,2)"
   ]
  },
  {
   "cell_type": "code",
   "execution_count": 40,
   "metadata": {},
   "outputs": [
    {
     "data": {
      "image/png": "[encoded data removed]",
      "text/plain": [
       "<Figure size 432x288 with 2 Axes>"
      ]
     },
     "metadata": {
      "needs_background": "light"
     },
     "output_type": "display_data"
    }
   ],
   "source": [
    "mon_idee_creuse_tres_rapide(M,5,20,.1,.1,True,20)"
   ]
  },
  {
   "cell_type": "markdown",
   "metadata": {},
   "source": [
    "## On va maintenant essayer sur un vrai dataset\n"
   ]
  },
  {
   "cell_type": "code",
   "execution_count": 41,
   "metadata": {},
   "outputs": [],
   "source": [
    "def to_matrice(dataset):\n",
    "    # marche pour un dataset avec notes entre 0 et note max\n",
    "    # à adapter sinon\n",
    "    \n",
    "    user = dataset.iloc[:, 0]\n",
    "    item = dataset.iloc[:, 1]\n",
    "\n",
    "    utile = dataset.iloc[:, 0:3]\n",
    "    data_array = utile.to_numpy()  # to_numpy devient get_values sur python 3\n",
    "\n",
    "    user_dict = {}\n",
    "    for k in range(data_array.shape[0]):\n",
    "        user_dict[data_array[k][0]] = data_array[k][1]\n",
    "    nb_user = len(user_dict)\n",
    "\n",
    "    item_dict = {}\n",
    "    for k in range(data_array.shape[0]):\n",
    "        item_dict[data_array[k][1]] = data_array[k][0]\n",
    "    nb_item = len(item_dict)\n",
    "\n",
    "    nb_ratings = data_array.shape[0]\n",
    "    pourc = round(100 * nb_ratings / (nb_user * nb_item), 2)\n",
    "\n",
    "    print(\"Il y a \", nb_user, \" utilisateurs et \", nb_item, \"plats et \", nb_ratings, \"notes, soit une matrice \", pourc,\n",
    "          \"% pleine.\")\n",
    "\n",
    "    # Matrice note\n",
    "\n",
    "    # on commence par remplir une matrice avec que des zeros ou des -1, à voir\n",
    "    M = np.zeros((nb_user, nb_ratings))\n",
    "\n",
    "    # Il faut maintenant réindexer\n",
    "    # Stratégie :\n",
    "\n",
    "    index = 0\n",
    "    for cle in user_dict.keys():\n",
    "        user_dict[cle] = index\n",
    "        index += 1\n",
    "\n",
    "    index = 0\n",
    "    for cle in item_dict.keys():\n",
    "        item_dict[cle] = index\n",
    "        index += 1\n",
    "\n",
    "    for x in data_array:\n",
    "        user = user_dict.get(x[0])\n",
    "        item = item_dict.get(x[1])\n",
    "        rating = x[2]\n",
    "        M[user][item] = rating + 1  # je fais donc des notes de 1 à 3 et on laisse 0 pour les non notés\n",
    "\n",
    "    return M"
   ]
  },
  {
   "cell_type": "code",
   "execution_count": 43,
   "metadata": {},
   "outputs": [
    {
     "name": "stdout",
     "output_type": "stream",
     "text": [
      "Il y a  138  utilisateurs et  130 plats et  1161 notes, soit une matrice  6.47 % pleine.\n"
     ]
    }
   ],
   "source": [
    "data=to_matrice(pd.read_csv('dataset_restaurant.csv'))"
   ]
  },
  {
   "cell_type": "code",
   "execution_count": 44,
   "metadata": {},
   "outputs": [
    {
     "name": "stdout",
     "output_type": "stream",
     "text": [
      "etape 1 sur 10\n",
      "etape 2 sur 10\n",
      "etape 3 sur 10\n",
      "etape 4 sur 10\n",
      "etape 5 sur 10\n",
      "etape 6 sur 10\n",
      "etape 7 sur 10\n",
      "etape 8 sur 10\n",
      "etape 9 sur 10\n",
      "etape 10 sur 10\n"
     ]
    },
    {
     "data": {
      "image/png": "[encoded data removed]",
      "text/plain": [
       "<Figure size 432x288 with 2 Axes>"
      ]
     },
     "metadata": {
      "needs_background": "light"
     },
     "output_type": "display_data"
    }
   ],
   "source": [
    "mon_idee_creuse_tres_rapide(data,5,10,.1,.1,False,20)"
   ]
  }
 ],
 "metadata": {
  "kernelspec": {
   "display_name": "Python 3",
   "language": "python",
   "name": "python3"
  },
  "language_info": {
   "codemirror_mode": {
    "name": "ipython",
    "version": 3
   },
   "file_extension": ".py",
   "mimetype": "text/x-python",
   "name": "python",
   "nbconvert_exporter": "python",
   "pygments_lexer": "ipython3",
   "version": "3.7.4"
  }
 },
 "nbformat": 4,
 "nbformat_minor": 2
}
